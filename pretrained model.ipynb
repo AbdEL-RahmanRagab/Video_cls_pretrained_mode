{
 "cells": [
  {
   "cell_type": "code",
   "execution_count": 16,
   "id": "424b18c9",
   "metadata": {},
   "outputs": [],
   "source": [
    "\"\"\"\n",
    "Video Fine-Tuning on Videos using a Memory-Efficient Generator\n",
    "- Loads frames on-the-fly from disk (no full dataset in RAM)\n",
    "- ResNet50 (feature extractor) + LSTM (temporal modeling)\n",
    "- Fine-tunes last layers (configurable) or full network\n",
    "- Handles variable-length videos by truncation/padding to MAX_FRAMES\n",
    "\n",
    "Usage:\n",
    "1) Edit DATASET_DIR and TEST_DIR to your folders (each has class subfolders, each subfolder contains video files)\n",
    "2) (Optional) Set UNFREEZE_LAST to how many ResNet50 layers you want to train. Set to None to train all layers.\n",
    "3) Run the script. It will train directly with fine-tuning.\n",
    "\n",
    "Notes:\n",
    "- OpenCV is used for decoding; avoid use_multiprocessing=True with OpenCV.\n",
    "- If you have few videos, consider lower batch size (e.g., 2) to fit GPU RAM.\n",
    "- Works with .mp4, .avi, .mov, .mkv by default; extend VIDEO_EXTS if needed.\n",
    "\"\"\"\n",
    "\n",
    "import os\n",
    "import cv2\n",
    "import math\n",
    "import random\n",
    "import numpy as np\n",
    "import pandas as pd\n",
    "import tensorflow as tf\n",
    "from tensorflow.keras import layers, models\n",
    "from tensorflow.keras.utils import Sequence\n",
    "from typing import List, Tuple\n",
    "\n",
    "# ======================\n",
    "# Config\n",
    "# ======================\n",
    "IMG_HEIGHT = 224\n",
    "IMG_WIDTH = 224\n",
    "MAX_FRAMES = 20\n",
    "NUM_CLASSES = None  # will be inferred from folders\n",
    "BATCH_SIZE = 4\n",
    "SEED = 42\n",
    "\n",
    "# Data paths (EDIT THESE)\n",
    "DATASET_DIR = r\"C:\\\\Users\\\\DAR-MG\\\\Documents\\\\internship_cellula\\\\video task\\\\Shop DataSet\"\n",
    "TEST_DIR    = r\"C:\\\\Users\\\\DAR-MG\\\\Documents\\\\internship_cellula\\\\video task\\\\test\"\n",
    "\n",
    "# Fine-tuning config\n",
    "UNFREEZE_LAST = 50   # set to None to train all layers, or an int to unfreeze last N layers\n",
    "BASE_LR = 1e-5       # small LR for fine-tuning\n",
    "EPOCHS = 10\n",
    "\n",
    "# IO config\n",
    "VIDEO_EXTS = {\".mp4\", \".avi\", \".mov\", \".mkv\", \".MP4\", \".AVI\", \".MOV\", \".MKV\"}\n",
    "\n",
    "# ======================\n",
    "# Utilities\n",
    "# ======================\n",
    "\n",
    "def list_videos_by_class(root_dir: str) -> Tuple[pd.DataFrame, dict]:\n",
    "    \"\"\"Scan a directory with structure: root/class_name/*.mp4 and build a dataframe.\n",
    "    Returns df with columns [tag, video_path] and a label_map dict.\n",
    "    \"\"\"\n",
    "    items: List[Tuple[str, str]] = []\n",
    "    class_names = [d for d in os.listdir(root_dir) if os.path.isdir(os.path.join(root_dir, d))]\n",
    "    class_names = sorted(class_names)\n",
    "    label_map = {cls: i for i, cls in enumerate(class_names)}\n",
    "\n",
    "    for cls in class_names:\n",
    "        cls_dir = os.path.join(root_dir, cls)\n",
    "        for fname in os.listdir(cls_dir):\n",
    "            ext = os.path.splitext(fname)[1]\n",
    "            if ext in VIDEO_EXTS:\n",
    "                items.append((cls, os.path.join(cls_dir, fname)))\n",
    "\n",
    "    df = pd.DataFrame(items, columns=[\"tag\", \"video_path\"])\n",
    "    return df, label_map\n",
    "\n",
    "\n",
    "def set_global_seed(seed: int = 42):\n",
    "    random.seed(seed)\n",
    "    np.random.seed(seed)\n",
    "    tf.random.set_seed(seed)\n",
    "\n",
    "\n",
    "# ======================\n",
    "# Video Loader\n",
    "# ======================\n",
    "\n",
    "def load_video_frames(path: str, max_frames: int = MAX_FRAMES, size: Tuple[int, int] = (IMG_WIDTH, IMG_HEIGHT)) -> np.ndarray:\n",
    "    \"\"\"Load up to max_frames frames, resize to size, normalize [0,1], pad with zeros if shorter.\"\"\"\n",
    "    cap = cv2.VideoCapture(path)\n",
    "    frames: List[np.ndarray] = []\n",
    "    try:\n",
    "        if not cap.isOpened():\n",
    "            # Return black clip if unreadable\n",
    "            return np.zeros((max_frames, size[1], size[0], 3), dtype=np.float32)\n",
    "        while True:\n",
    "            ret, frame = cap.read()\n",
    "            if not ret:\n",
    "                break\n",
    "            frame = cv2.resize(frame, size)\n",
    "            frame = cv2.cvtColor(frame, cv2.COLOR_BGR2RGB)\n",
    "            frame = frame.astype(np.float32) / 255.0\n",
    "            frames.append(frame)\n",
    "            if len(frames) >= max_frames:\n",
    "                break\n",
    "    finally:\n",
    "        cap.release()\n",
    "\n",
    "    # Pad if shorter\n",
    "    if len(frames) < max_frames:\n",
    "        pad = np.zeros((max_frames - len(frames), size[1], size[0], 3), dtype=np.float32)\n",
    "        frames = frames + [pad[i] for i in range(pad.shape[0])]\n",
    "\n",
    "    # Ensure shape (MAX_FRAMES, H, W, 3)\n",
    "    arr = np.asarray(frames, dtype=np.float32)\n",
    "    if arr.shape[0] > max_frames:\n",
    "        arr = arr[:max_frames]\n",
    "    return arr\n",
    "\n"
   ]
  },
  {
   "cell_type": "code",
   "execution_count": 17,
   "id": "684a34be",
   "metadata": {},
   "outputs": [],
   "source": [
    "\n",
    "# ======================\n",
    "# Data Generator (Keras Sequence)\n",
    "# ======================\n",
    "class VideoSequence(Sequence):\n",
    "    def __init__(self, df: pd.DataFrame, label_map: dict, batch_size: int = BATCH_SIZE,\n",
    "                 shuffle: bool = True):\n",
    "        self.df = df.reset_index(drop=True)\n",
    "        self.label_map = label_map\n",
    "        self.batch_size = batch_size\n",
    "        self.shuffle = shuffle\n",
    "        self.indexes = np.arange(len(self.df))\n",
    "        self.on_epoch_end()\n",
    "\n",
    "    def __len__(self) -> int:\n",
    "        return math.ceil(len(self.df) / self.batch_size)\n",
    "\n",
    "    def __getitem__(self, idx: int):\n",
    "        batch_indexes = self.indexes[idx * self.batch_size: (idx + 1) * self.batch_size]\n",
    "        batch_paths = self.df.loc[batch_indexes, \"video_path\"].tolist()\n",
    "        batch_tags  = self.df.loc[batch_indexes, \"tag\"].tolist()\n",
    "\n",
    "        X = np.zeros((len(batch_paths), MAX_FRAMES, IMG_HEIGHT, IMG_WIDTH, 3), dtype=np.float32)\n",
    "        y = np.zeros((len(batch_paths),), dtype=np.int64)\n",
    "\n",
    "        for i, (p, t) in enumerate(zip(batch_paths, batch_tags)):\n",
    "            X[i] = load_video_frames(p)\n",
    "            y[i] = self.label_map[t]\n",
    "\n",
    "        return X, y\n",
    "\n",
    "    def on_epoch_end(self):\n",
    "        if self.shuffle:\n",
    "            np.random.shuffle(self.indexes)\n",
    "\n"
   ]
  },
  {
   "cell_type": "code",
   "execution_count": 18,
   "id": "4137d77d",
   "metadata": {},
   "outputs": [],
   "source": [
    "\n",
    "# ======================\n",
    "# Model: ResNet50 + LSTM (Fine-Tuning)\n",
    "# ======================\n",
    "\n",
    "def build_model(num_classes: int):\n",
    "    base_cnn = tf.keras.applications.ResNet50(\n",
    "        weights=\"imagenet\",\n",
    "        include_top=False,\n",
    "        input_shape=(IMG_HEIGHT, IMG_WIDTH, 3)\n",
    "    )\n",
    "\n",
    "    # Fine-tuning setup\n",
    "    if UNFREEZE_LAST is None:\n",
    "        base_cnn.trainable = True\n",
    "    else:\n",
    "        base_cnn.trainable = True\n",
    "        for layer in base_cnn.layers[:-UNFREEZE_LAST]:\n",
    "            layer.trainable = False\n",
    "\n",
    "    model = models.Sequential([\n",
    "        layers.TimeDistributed(base_cnn, input_shape=(MAX_FRAMES, IMG_HEIGHT, IMG_WIDTH, 3)),\n",
    "        layers.TimeDistributed(layers.GlobalAveragePooling2D()),\n",
    "        layers.LSTM(64),\n",
    "        layers.Dense(64, activation=\"relu\"),\n",
    "        layers.Dense(num_classes, activation=\"softmax\")\n",
    "    ])\n",
    "\n",
    "    model.compile(\n",
    "        loss=\"sparse_categorical_crossentropy\",\n",
    "        optimizer=tf.keras.optimizers.Adam(BASE_LR),\n",
    "        metrics=[\"accuracy\"]\n",
    "    )\n",
    "    return model\n",
    "\n"
   ]
  },
  {
   "cell_type": "code",
   "execution_count": null,
   "id": "9576ea23",
   "metadata": {},
   "outputs": [],
   "source": []
  },
  {
   "cell_type": "code",
   "execution_count": null,
   "id": "adf4b73b",
   "metadata": {},
   "outputs": [],
   "source": []
  },
  {
   "cell_type": "code",
   "execution_count": null,
   "id": "58e659c4",
   "metadata": {},
   "outputs": [],
   "source": []
  },
  {
   "cell_type": "code",
   "execution_count": 20,
   "id": "89a375c4",
   "metadata": {},
   "outputs": [
    {
     "name": "stdout",
     "output_type": "stream",
     "text": [
      "Label map: {'non shop lifters': 0, 'shop lifters': 1}\n"
     ]
    },
    {
     "data": {
      "text/html": [
       "<pre style=\"white-space:pre;overflow-x:auto;line-height:normal;font-family:Menlo,'DejaVu Sans Mono',consolas,'Courier New',monospace\"><span style=\"font-weight: bold\">Model: \"sequential_1\"</span>\n",
       "</pre>\n"
      ],
      "text/plain": [
       "\u001b[1mModel: \"sequential_1\"\u001b[0m\n"
      ]
     },
     "metadata": {},
     "output_type": "display_data"
    },
    {
     "data": {
      "text/html": [
       "<pre style=\"white-space:pre;overflow-x:auto;line-height:normal;font-family:Menlo,'DejaVu Sans Mono',consolas,'Courier New',monospace\">┏━━━━━━━━━━━━━━━━━━━━━━━━━━━━━━━━━┳━━━━━━━━━━━━━━━━━━━━━━━━┳━━━━━━━━━━━━━━━┓\n",
       "┃<span style=\"font-weight: bold\"> Layer (type)                    </span>┃<span style=\"font-weight: bold\"> Output Shape           </span>┃<span style=\"font-weight: bold\">       Param # </span>┃\n",
       "┡━━━━━━━━━━━━━━━━━━━━━━━━━━━━━━━━━╇━━━━━━━━━━━━━━━━━━━━━━━━╇━━━━━━━━━━━━━━━┩\n",
       "│ time_distributed_2              │ (<span style=\"color: #00d7ff; text-decoration-color: #00d7ff\">None</span>, <span style=\"color: #00af00; text-decoration-color: #00af00\">20</span>, <span style=\"color: #00af00; text-decoration-color: #00af00\">7</span>, <span style=\"color: #00af00; text-decoration-color: #00af00\">7</span>, <span style=\"color: #00af00; text-decoration-color: #00af00\">2048</span>) │    <span style=\"color: #00af00; text-decoration-color: #00af00\">23,587,712</span> │\n",
       "│ (<span style=\"color: #0087ff; text-decoration-color: #0087ff\">TimeDistributed</span>)               │                        │               │\n",
       "├─────────────────────────────────┼────────────────────────┼───────────────┤\n",
       "│ time_distributed_3              │ (<span style=\"color: #00d7ff; text-decoration-color: #00d7ff\">None</span>, <span style=\"color: #00af00; text-decoration-color: #00af00\">20</span>, <span style=\"color: #00af00; text-decoration-color: #00af00\">2048</span>)       │             <span style=\"color: #00af00; text-decoration-color: #00af00\">0</span> │\n",
       "│ (<span style=\"color: #0087ff; text-decoration-color: #0087ff\">TimeDistributed</span>)               │                        │               │\n",
       "├─────────────────────────────────┼────────────────────────┼───────────────┤\n",
       "│ lstm_1 (<span style=\"color: #0087ff; text-decoration-color: #0087ff\">LSTM</span>)                   │ (<span style=\"color: #00d7ff; text-decoration-color: #00d7ff\">None</span>, <span style=\"color: #00af00; text-decoration-color: #00af00\">64</span>)             │       <span style=\"color: #00af00; text-decoration-color: #00af00\">540,928</span> │\n",
       "├─────────────────────────────────┼────────────────────────┼───────────────┤\n",
       "│ dense_2 (<span style=\"color: #0087ff; text-decoration-color: #0087ff\">Dense</span>)                 │ (<span style=\"color: #00d7ff; text-decoration-color: #00d7ff\">None</span>, <span style=\"color: #00af00; text-decoration-color: #00af00\">64</span>)             │         <span style=\"color: #00af00; text-decoration-color: #00af00\">4,160</span> │\n",
       "├─────────────────────────────────┼────────────────────────┼───────────────┤\n",
       "│ dense_3 (<span style=\"color: #0087ff; text-decoration-color: #0087ff\">Dense</span>)                 │ (<span style=\"color: #00d7ff; text-decoration-color: #00d7ff\">None</span>, <span style=\"color: #00af00; text-decoration-color: #00af00\">2</span>)              │           <span style=\"color: #00af00; text-decoration-color: #00af00\">130</span> │\n",
       "└─────────────────────────────────┴────────────────────────┴───────────────┘\n",
       "</pre>\n"
      ],
      "text/plain": [
       "┏━━━━━━━━━━━━━━━━━━━━━━━━━━━━━━━━━┳━━━━━━━━━━━━━━━━━━━━━━━━┳━━━━━━━━━━━━━━━┓\n",
       "┃\u001b[1m \u001b[0m\u001b[1mLayer (type)                   \u001b[0m\u001b[1m \u001b[0m┃\u001b[1m \u001b[0m\u001b[1mOutput Shape          \u001b[0m\u001b[1m \u001b[0m┃\u001b[1m \u001b[0m\u001b[1m      Param #\u001b[0m\u001b[1m \u001b[0m┃\n",
       "┡━━━━━━━━━━━━━━━━━━━━━━━━━━━━━━━━━╇━━━━━━━━━━━━━━━━━━━━━━━━╇━━━━━━━━━━━━━━━┩\n",
       "│ time_distributed_2              │ (\u001b[38;5;45mNone\u001b[0m, \u001b[38;5;34m20\u001b[0m, \u001b[38;5;34m7\u001b[0m, \u001b[38;5;34m7\u001b[0m, \u001b[38;5;34m2048\u001b[0m) │    \u001b[38;5;34m23,587,712\u001b[0m │\n",
       "│ (\u001b[38;5;33mTimeDistributed\u001b[0m)               │                        │               │\n",
       "├─────────────────────────────────┼────────────────────────┼───────────────┤\n",
       "│ time_distributed_3              │ (\u001b[38;5;45mNone\u001b[0m, \u001b[38;5;34m20\u001b[0m, \u001b[38;5;34m2048\u001b[0m)       │             \u001b[38;5;34m0\u001b[0m │\n",
       "│ (\u001b[38;5;33mTimeDistributed\u001b[0m)               │                        │               │\n",
       "├─────────────────────────────────┼────────────────────────┼───────────────┤\n",
       "│ lstm_1 (\u001b[38;5;33mLSTM\u001b[0m)                   │ (\u001b[38;5;45mNone\u001b[0m, \u001b[38;5;34m64\u001b[0m)             │       \u001b[38;5;34m540,928\u001b[0m │\n",
       "├─────────────────────────────────┼────────────────────────┼───────────────┤\n",
       "│ dense_2 (\u001b[38;5;33mDense\u001b[0m)                 │ (\u001b[38;5;45mNone\u001b[0m, \u001b[38;5;34m64\u001b[0m)             │         \u001b[38;5;34m4,160\u001b[0m │\n",
       "├─────────────────────────────────┼────────────────────────┼───────────────┤\n",
       "│ dense_3 (\u001b[38;5;33mDense\u001b[0m)                 │ (\u001b[38;5;45mNone\u001b[0m, \u001b[38;5;34m2\u001b[0m)              │           \u001b[38;5;34m130\u001b[0m │\n",
       "└─────────────────────────────────┴────────────────────────┴───────────────┘\n"
      ]
     },
     "metadata": {},
     "output_type": "display_data"
    },
    {
     "data": {
      "text/html": [
       "<pre style=\"white-space:pre;overflow-x:auto;line-height:normal;font-family:Menlo,'DejaVu Sans Mono',consolas,'Courier New',monospace\"><span style=\"font-weight: bold\"> Total params: </span><span style=\"color: #00af00; text-decoration-color: #00af00\">24,132,930</span> (92.06 MB)\n",
       "</pre>\n"
      ],
      "text/plain": [
       "\u001b[1m Total params: \u001b[0m\u001b[38;5;34m24,132,930\u001b[0m (92.06 MB)\n"
      ]
     },
     "metadata": {},
     "output_type": "display_data"
    },
    {
     "data": {
      "text/html": [
       "<pre style=\"white-space:pre;overflow-x:auto;line-height:normal;font-family:Menlo,'DejaVu Sans Mono',consolas,'Courier New',monospace\"><span style=\"font-weight: bold\"> Trainable params: </span><span style=\"color: #00af00; text-decoration-color: #00af00\">17,495,746</span> (66.74 MB)\n",
       "</pre>\n"
      ],
      "text/plain": [
       "\u001b[1m Trainable params: \u001b[0m\u001b[38;5;34m17,495,746\u001b[0m (66.74 MB)\n"
      ]
     },
     "metadata": {},
     "output_type": "display_data"
    },
    {
     "data": {
      "text/html": [
       "<pre style=\"white-space:pre;overflow-x:auto;line-height:normal;font-family:Menlo,'DejaVu Sans Mono',consolas,'Courier New',monospace\"><span style=\"font-weight: bold\"> Non-trainable params: </span><span style=\"color: #00af00; text-decoration-color: #00af00\">6,637,184</span> (25.32 MB)\n",
       "</pre>\n"
      ],
      "text/plain": [
       "\u001b[1m Non-trainable params: \u001b[0m\u001b[38;5;34m6,637,184\u001b[0m (25.32 MB)\n"
      ]
     },
     "metadata": {},
     "output_type": "display_data"
    },
    {
     "name": "stderr",
     "output_type": "stream",
     "text": [
      "c:\\Users\\DAR-MG\\anaconda3\\Lib\\site-packages\\keras\\src\\trainers\\data_adapters\\py_dataset_adapter.py:121: UserWarning: Your `PyDataset` class should call `super().__init__(**kwargs)` in its constructor. `**kwargs` can include `workers`, `use_multiprocessing`, `max_queue_size`. Do not pass these arguments to `fit()`, as they will be ignored.\n",
      "  self._warn_if_super_not_called()\n"
     ]
    },
    {
     "name": "stdout",
     "output_type": "stream",
     "text": [
      "Epoch 1/10\n",
      "\u001b[1m212/212\u001b[0m \u001b[32m━━━━━━━━━━━━━━━━━━━━\u001b[0m\u001b[37m\u001b[0m \u001b[1m0s\u001b[0m 7s/step - accuracy: 0.7524 - loss: 0.5120"
     ]
    },
    {
     "name": "stderr",
     "output_type": "stream",
     "text": [
      "c:\\Users\\DAR-MG\\anaconda3\\Lib\\site-packages\\keras\\src\\trainers\\data_adapters\\py_dataset_adapter.py:121: UserWarning: Your `PyDataset` class should call `super().__init__(**kwargs)` in its constructor. `**kwargs` can include `workers`, `use_multiprocessing`, `max_queue_size`. Do not pass these arguments to `fit()`, as they will be ignored.\n",
      "  self._warn_if_super_not_called()\n"
     ]
    },
    {
     "name": "stdout",
     "output_type": "stream",
     "text": [
      "\u001b[1m212/212\u001b[0m \u001b[32m━━━━━━━━━━━━━━━━━━━━\u001b[0m\u001b[37m\u001b[0m \u001b[1m1690s\u001b[0m 7s/step - accuracy: 0.7526 - loss: 0.5118 - val_accuracy: 0.8333 - val_loss: 0.4149\n",
      "Epoch 2/10\n",
      "\u001b[1m212/212\u001b[0m \u001b[32m━━━━━━━━━━━━━━━━━━━━\u001b[0m\u001b[37m\u001b[0m \u001b[1m1436s\u001b[0m 7s/step - accuracy: 0.8698 - loss: 0.3126 - val_accuracy: 0.6667 - val_loss: 0.4274\n",
      "Epoch 3/10\n",
      "\u001b[1m212/212\u001b[0m \u001b[32m━━━━━━━━━━━━━━━━━━━━\u001b[0m\u001b[37m\u001b[0m \u001b[1m1329s\u001b[0m 6s/step - accuracy: 0.8778 - loss: 0.2897 - val_accuracy: 0.5833 - val_loss: 1.2333\n",
      "Epoch 4/10\n",
      "\u001b[1m212/212\u001b[0m \u001b[32m━━━━━━━━━━━━━━━━━━━━\u001b[0m\u001b[37m\u001b[0m \u001b[1m1341s\u001b[0m 6s/step - accuracy: 0.8861 - loss: 0.2718 - val_accuracy: 0.4167 - val_loss: 1.5809\n",
      "Epoch 5/10\n",
      "\u001b[1m212/212\u001b[0m \u001b[32m━━━━━━━━━━━━━━━━━━━━\u001b[0m\u001b[37m\u001b[0m \u001b[1m1457s\u001b[0m 7s/step - accuracy: 0.8833 - loss: 0.2831 - val_accuracy: 0.6667 - val_loss: 0.5443\n",
      "Epoch 6/10\n",
      "\u001b[1m212/212\u001b[0m \u001b[32m━━━━━━━━━━━━━━━━━━━━\u001b[0m\u001b[37m\u001b[0m \u001b[1m1480s\u001b[0m 7s/step - accuracy: 0.9185 - loss: 0.2058 - val_accuracy: 1.0000 - val_loss: 0.1308\n",
      "Epoch 7/10\n",
      "\u001b[1m212/212\u001b[0m \u001b[32m━━━━━━━━━━━━━━━━━━━━\u001b[0m\u001b[37m\u001b[0m \u001b[1m1535s\u001b[0m 7s/step - accuracy: 0.8990 - loss: 0.2446 - val_accuracy: 1.0000 - val_loss: 0.0989\n",
      "Epoch 8/10\n",
      "\u001b[1m212/212\u001b[0m \u001b[32m━━━━━━━━━━━━━━━━━━━━\u001b[0m\u001b[37m\u001b[0m \u001b[1m1416s\u001b[0m 7s/step - accuracy: 0.9372 - loss: 0.1802 - val_accuracy: 0.8333 - val_loss: 0.1647\n",
      "Epoch 9/10\n",
      "\u001b[1m212/212\u001b[0m \u001b[32m━━━━━━━━━━━━━━━━━━━━\u001b[0m\u001b[37m\u001b[0m \u001b[1m1403s\u001b[0m 7s/step - accuracy: 0.9174 - loss: 0.2197 - val_accuracy: 1.0000 - val_loss: 0.1162\n",
      "Epoch 10/10\n",
      "\u001b[1m212/212\u001b[0m \u001b[32m━━━━━━━━━━━━━━━━━━━━\u001b[0m\u001b[37m\u001b[0m \u001b[1m1386s\u001b[0m 7s/step - accuracy: 0.9318 - loss: 0.1628 - val_accuracy: 1.0000 - val_loss: 0.1363\n",
      "Training finished. Best model at: c:\\Users\\DAR-MG\\Documents\\internship_cellula\\video task\\video_finetune_best.keras\n"
     ]
    }
   ],
   "source": [
    "\n",
    "# ======================\n",
    "# Main Training\n",
    "# ======================\n",
    "if __name__ == \"__main__\":\n",
    "    set_global_seed(SEED)\n",
    "\n",
    "    # Build dataframes and label maps\n",
    "    train_df, label_map = list_videos_by_class(DATASET_DIR)\n",
    "    test_df,  _        = list_videos_by_class(TEST_DIR)\n",
    "\n",
    "    num_classes = len(label_map)\n",
    "    print(\"Label map:\", label_map)\n",
    "\n",
    "    # Generators\n",
    "    train_gen = VideoSequence(train_df, label_map, batch_size=BATCH_SIZE, shuffle=True)\n",
    "    val_gen   = VideoSequence(test_df,  label_map, batch_size=BATCH_SIZE, shuffle=False)\n",
    "\n",
    "    # Model\n",
    "    model = build_model(num_classes)\n",
    "    model.summary()\n",
    "\n",
    "    # Callbacks\n",
    "    ckpt_path = os.path.join(os.getcwd(), \"video_finetune_best.keras\")\n",
    "    callbacks = [\n",
    "        tf.keras.callbacks.ModelCheckpoint(ckpt_path, monitor=\"val_accuracy\", save_best_only=True, verbose=1),\n",
    "        tf.keras.callbacks.EarlyStopping(monitor=\"val_accuracy\", patience=5, restore_best_weights=True),\n",
    "        tf.keras.callbacks.ReduceLROnPlateau(monitor=\"val_loss\", factor=0.5, patience=2, verbose=1)\n",
    "    ]\n",
    "    history = model.fit(\n",
    "    train_gen,\n",
    "    validation_data=val_gen,\n",
    "    epochs=EPOCHS,\n",
    "    verbose=1,\n",
    "    shuffle=False\n",
    ")\n",
    "\n",
    "\n",
    "    # Save final model\n",
    "    model.save(\"video_finetuned_final.keras\")\n",
    "    print(\"Training finished. Best model at:\", ckpt_path)\n"
   ]
  },
  {
   "cell_type": "code",
   "execution_count": 29,
   "id": "bbd87a24",
   "metadata": {},
   "outputs": [
    {
     "name": "stdout",
     "output_type": "stream",
     "text": [
      "\u001b[1m212/212\u001b[0m \u001b[32m━━━━━━━━━━━━━━━━━━━━\u001b[0m\u001b[37m\u001b[0m \u001b[1m812s\u001b[0m 4s/step - accuracy: 0.8934 - loss: 0.2107\n",
      "Test Accuracy: 91.01%\n",
      "Test Loss: 0.1885\n"
     ]
    }
   ],
   "source": [
    "loss, acc = model.evaluate(train_gen, verbose=1)\n",
    "print(f\"Test Accuracy: {acc*100:.2f}%\")\n",
    "print(f\"Test Loss: {loss:.4f}\")\n"
   ]
  },
  {
   "cell_type": "code",
   "execution_count": 26,
   "id": "b0df8487",
   "metadata": {},
   "outputs": [
    {
     "data": {
      "image/png": "[encoded data removed]",
      "text/plain": [
       "<Figure size 640x480 with 1 Axes>"
      ]
     },
     "metadata": {},
     "output_type": "display_data"
    }
   ],
   "source": [
    "import matplotlib.pyplot as plt\n",
    "\n",
    "plt.plot(history.history['accuracy'], label='Training Accuracy')\n",
    "plt.plot(history.history['val_accuracy'], label='Validation Accuracy')\n",
    "plt.title('Model Accuracy')\n",
    "plt.xlabel('Epoch')\n",
    "plt.ylabel('Accuracy')\n",
    "plt.legend()\n",
    "plt.show()"
   ]
  },
  {
   "cell_type": "code",
   "execution_count": 28,
   "id": "14357611",
   "metadata": {},
   "outputs": [
    {
     "name": "stdout",
     "output_type": "stream",
     "text": [
      "\u001b[1m1/1\u001b[0m \u001b[32m━━━━━━━━━━━━━━━━━━━━\u001b[0m\u001b[37m\u001b[0m \u001b[1m39s\u001b[0m 39s/step\n",
      "🎯 Prediction: non shop lifters (confidence: 0.85)\n"
     ]
    }
   ],
   "source": [
    "import cv2\n",
    "import numpy as np\n",
    "\n",
    "# نفس دالة تحميل الفيديو اللي استخدمناها في التدريب\n",
    "def load_video_for_test(path, max_frames=MAX_FRAMES, resize=(IMG_WIDTH, IMG_HEIGHT)):\n",
    "    cap = cv2.VideoCapture(path)\n",
    "    frames = []\n",
    "    try:\n",
    "        while True:\n",
    "            ret, frame = cap.read()\n",
    "            if not ret:\n",
    "                break\n",
    "            frame = cv2.resize(frame, resize)\n",
    "            frame = cv2.cvtColor(frame, cv2.COLOR_BGR2RGB) / 255.0\n",
    "            frames.append(frame)\n",
    "            if len(frames) == max_frames:\n",
    "                break\n",
    "    finally:\n",
    "        cap.release()\n",
    "    while len(frames) < MAX_FRAMES:\n",
    "        frames.append(np.zeros((IMG_HEIGHT, IMG_WIDTH, 3)))\n",
    "    return np.array(frames)[:MAX_FRAMES]\n",
    "\n",
    "# تحميل الفيديو المراد اختباره\n",
    "video_path = r\"C:\\Users\\DAR-MG\\Documents\\internship_cellula\\video task\\test\\non shop lifters\\shop_lifter_n_99_1.mp4\"\n",
    "video_data = load_video_for_test(video_path)\n",
    "\n",
    "# إضافة بعد batch\n",
    "video_data = np.expand_dims(video_data, axis=0)  # shape: (1, MAX_FRAMES, H, W, 3)\n",
    "\n",
    "# عمل التنبؤ\n",
    "pred = model.predict(video_data)\n",
    "pred_class = np.argmax(pred, axis=1)[0]\n",
    "\n",
    "# عكس الترميز للـ label\n",
    "reverse_label_map = {v: k for k, v in label_map.items()}\n",
    "print(f\"🎯 Prediction: {reverse_label_map[pred_class]} (confidence: {np.max(pred):.2f})\")\n"
   ]
  },
  {
   "cell_type": "code",
   "execution_count": 30,
   "id": "fc81dbec",
   "metadata": {},
   "outputs": [],
   "source": [
    "model.save(\"video_finetuned_final_noopt.keras\", include_optimizer=False)\n"
   ]
  },
  {
   "cell_type": "code",
   "execution_count": null,
   "id": "ec2201b5",
   "metadata": {},
   "outputs": [],
   "source": []
  }
 ],
 "metadata": {
  "kernelspec": {
   "display_name": "base",
   "language": "python",
   "name": "python3"
  },
  "language_info": {
   "codemirror_mode": {
    "name": "ipython",
    "version": 3
   },
   "file_extension": ".py",
   "mimetype": "text/x-python",
   "name": "python",
   "nbconvert_exporter": "python",
   "pygments_lexer": "ipython3",
   "version": "3.12.3"
  }
 },
 "nbformat": 4,
 "nbformat_minor": 5
}
